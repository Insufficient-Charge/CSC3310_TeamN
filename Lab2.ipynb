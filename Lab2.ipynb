{
 "cells": [
  {
   "cell_type": "code",
   "execution_count": null,
   "metadata": {},
   "outputs": [],
   "source": []
  },
  {
   "attachments": {},
   "cell_type": "markdown",
   "metadata": {},
   "source": [
    "## 2. High-level Pseudocode"
   ]
  },
  {
   "cell_type": "code",
   "execution_count": null,
   "metadata": {},
   "outputs": [],
   "source": [
    "def getCentroid(points):\n",
    "    pass\n",
    "\n",
    "def convexHullEdge(...):"
   ]
  },
  {
   "attachments": {},
   "cell_type": "markdown",
   "metadata": {},
   "source": [
    "list<pair<int, int>> convexHull(list<pair<int, int>> points) {\n",
    "    \n",
    "    // Find a centroid point amongst the given points\n",
    "    centroid = getCentroid(points)\n",
    "\n",
    "    // Define a reference point relative to the centroid\n",
    "    ref = getReference(centroid)\n",
    "\n",
    "    //\n",
    "    pairs = []\n",
    "    for point in points {\n",
    "        // First, define which region the point falls\n",
    "        left = point.x <= centroid.x\n",
    "\n",
    "        // \n",
    "        intAngle = getInteriorAngle(centroid, point, ref)\n",
    "        if (!left) {\n",
    "            intAngle = 360 - intAngle\n",
    "        }\n",
    "        Pair<Point, Angle> pt_ang_pair = Pair(point, intAngle)\n",
    "        pairs.append(pt_ang_pair)\n",
    "    }\n",
    "\n",
    "    // Sort the pairs\n",
    "    sorted_pairs = sort(pairs)\n",
    "    sorted_ll = DoublyLinkedList(sorted_pairs)\n",
    "\n",
    "    // For each pair, form a quadrilater, and determine if the interior angle is convex\n",
    "\n",
    "    return_points = []\n",
    "    i = 1\n",
    "    prevNode = sorted_ll.head()\n",
    "    currNode = prevNode.next()\n",
    "    nextNode = currNode.next()\n",
    "    while nextNode.hasNext() {\n",
    "        int_angle = getInteriorAngleQuad(prevNode.data(), currNode.data(), nextNode.data(), centroid)\n",
    "\n",
    "        //\n",
    "        if int_angle < 180 {\n",
    "            return_points.append(currNode.data)\n",
    "        } else {\n",
    "            while(prevNode.hasPrev && newIntAngle >= 180) {\n",
    "                prevNode.setNext(nextNode)\n",
    "                nextNode.setPrev(prevNode)\n",
    "\n",
    "                currNode = prevNode\n",
    "                prevNode = currNode.prev()\n",
    "            } \n",
    "        }\n",
    "\n",
    "        nextNode = nextNode.next()\n",
    "        currNode = currNode.next()\n",
    "        prevNode = prevNode.next()\n",
    "    }\n",
    "\n",
    "    return return_points\n",
    "}"
   ]
  }
 ],
 "metadata": {
  "language_info": {
   "name": "python"
  },
  "orig_nbformat": 4
 },
 "nbformat": 4,
 "nbformat_minor": 2
}
