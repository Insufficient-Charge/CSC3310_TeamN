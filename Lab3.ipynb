{
 "cells": [
  {
   "cell_type": "markdown",
   "metadata": {},
   "source": [
    "# Appendix - Lab 3: Selection Problem\n",
    "\n",
    "*By John Paul Bunn & Joseph Beattie*"
   ]
  },
  {
   "cell_type": "markdown",
   "metadata": {},
   "source": [
    "This notebook contains a Python implementation of our algorithm, along with any code used to test it and make visualizations."
   ]
  },
  {
   "cell_type": "markdown",
   "metadata": {},
   "source": [
    "## Implementation"
   ]
  },
  {
   "cell_type": "code",
   "execution_count": 1,
   "metadata": {},
   "outputs": [],
   "source": [
    "import random\n",
    "\n",
    "def num_elements_greater(nums, item, i, j):\n",
    "    num_greater = 0\n",
    "    for idx in range(i, j + 1):\n",
    "        if nums[idx] > item:\n",
    "            num_greater += 1\n",
    "    return num_greater\n",
    "\n",
    "def divide(nums, i, j):\n",
    "    pivot_pos_orig = random.randint(i, j)\n",
    "    pivot = nums[pivot_pos_orig]\n",
    "    \n",
    "    middle = j - num_elements_greater(nums, pivot, i, j)\n",
    "    nums[middle], nums[pivot_pos_orig] = nums[pivot_pos_orig], nums[middle]\n",
    "    \n",
    "    l = middle - 1\n",
    "    r = middle + 1\n",
    "    while l >= i and r <= j:\n",
    "        if nums[l] <= pivot:\n",
    "            l -= 1\n",
    "        elif nums[r] > pivot:\n",
    "            r += 1\n",
    "        else:\n",
    "            nums[l], nums[r] = nums[r], nums[l]\n",
    "    \n",
    "    return middle\n",
    "\n",
    "def _kSmall(nums, l, r, k):\n",
    "    if k <= l or k > r + 1:\n",
    "        # If we get here, our code fouled in some way\n",
    "        raise RuntimeError('INTERNAL: Invalid k value. ' +\n",
    "                           'l = ' + str(l) + ', r = ' + str(r) + ', k = ' + str(k))\n",
    "    \n",
    "    # Random partition in the middle\n",
    "    mid = divide(nums, l, r)\n",
    "    \n",
    "    # Exit condition: if the array is the correct partition size\n",
    "    if mid == k - 1:\n",
    "        return nums[mid]\n",
    "\n",
    "    if mid > k - 1:\n",
    "        return _kSmall(nums, l, mid - 1, k)\n",
    "    \n",
    "    return _kSmall(nums, mid + 1, r, k)\n",
    "\n",
    "def kSmall(nums, k):\n",
    "    if k < 1 or k > len(nums):\n",
    "        raise IndexError('Invalid k value: ' + str(k))\n",
    "    \n",
    "    return _kSmall(nums, 0, len(nums) - 1, k)"
   ]
  },
  {
   "cell_type": "markdown",
   "metadata": {},
   "source": [
    "## 4. Test Cases"
   ]
  },
  {
   "cell_type": "markdown",
   "metadata": {},
   "source": [
    "Test case format: (list, k, expected, description)"
   ]
  },
  {
   "cell_type": "code",
   "execution_count": 2,
   "metadata": {},
   "outputs": [],
   "source": [
    "test_cases = [\n",
    "    (\n",
    "        [1],\n",
    "        1,\n",
    "        1,\n",
    "        \"Single-element test\"\n",
    "    ),\n",
    "    (\n",
    "        [10, 8, 2, 4, 6],\n",
    "        3,\n",
    "        6,\n",
    "        \"5-element unsorted test\"\n",
    "    ),\n",
    "    (\n",
    "        [1, 1, 1, 1, 1],\n",
    "        2,\n",
    "        1,\n",
    "        \"5-element duplicate test\"\n",
    "    ),\n",
    "    (\n",
    "        [1, 2, 3, 4, 5, 6, 7, 8, 9, 10],\n",
    "        10,\n",
    "        10,\n",
    "        \"10-element sorted test (last element)\"\n",
    "    ),\n",
    "    (\n",
    "        [10, 9, 8, 8, 7, 6, 5, 4, 3, 2],\n",
    "        7,\n",
    "        8,\n",
    "        \"10-element test with duplicate\"\n",
    "    ),\n",
    "    (\n",
    "        [10, 9, 8, 8, 7, 6, 5, 4, 3, 2],\n",
    "        1,\n",
    "        2,\n",
    "        \"10-element test of 1st element\"\n",
    "    ),\n",
    "]"
   ]
  },
  {
   "cell_type": "code",
   "execution_count": 3,
   "metadata": {},
   "outputs": [
    {
     "name": "stdout",
     "output_type": "stream",
     "text": [
      "all_passed = True\n"
     ]
    }
   ],
   "source": [
    "all_passed = True\n",
    "for orig_list, k, expected, name in test_cases:\n",
    "    list_copy = list(orig_list)\n",
    "    actual = kSmall(list_copy, k)\n",
    "    all_passed &= actual == expected\n",
    "    if actual != expected:\n",
    "        print(\"Case failed!\")\n",
    "        print(name)\n",
    "        print(\"Expected:\", expected)\n",
    "        print(\"Actual:\", actual)\n",
    "        print()\n",
    "print(\"all_passed =\", all_passed)"
   ]
  },
  {
   "cell_type": "code",
   "execution_count": 4,
   "metadata": {},
   "outputs": [
    {
     "name": "stdout",
     "output_type": "stream",
     "text": [
      "| Test Case Description | Input | Expected Output | Actual Output |\n",
      "| --- | --- | --- | --- |\n",
      "| Single-element test | [1], k=1 | 1 | 1 |\n",
      "| 5-element unsorted test | [2, 4, 6, 8, 10], k=3 | 6 | 6 |\n",
      "| 5-element duplicate test | [1, 1, 1, 1, 1], k=2 | 1 | 1 |\n",
      "| 10-element sorted test (last element) | [1, 2, 3, 4, 5, 6, 7, 8, 9, 10], k=10 | 10 | 10 |\n",
      "| 10-element test with duplicate | [2, 3, 4, 5, 6, 7, 8, 8, 9, 10], k=7 | 8 | 8 |\n",
      "| 10-element test of 1st element | [2, 3, 4, 5, 7, 6, 8, 8, 9, 10], k=1 | 2 | 2 |\n"
     ]
    }
   ],
   "source": [
    "heading1 = 'Test Case Description'\n",
    "heading2 = 'Input'\n",
    "heading3 = 'Expected Output'\n",
    "heading4 = 'Actual Output'\n",
    "\n",
    "format1 = '%s'\n",
    "format2 = '%s, k=%d'\n",
    "format3 = '%d'\n",
    "format4 = '%d'\n",
    "\n",
    "print('|', heading1, '|', heading2, '|', heading3, '|', heading4, '|')\n",
    "print('|', '---', '|', '---', '|', '---', '|', '---', '|')\n",
    "\n",
    "for inp, k, exp_out, desc in test_cases:\n",
    "    act_out = kSmall(inp, k)\n",
    "    print('|', format1 % desc, '|', format2 % (inp, k), '|',\n",
    "          format3 % exp_out, '|', format4 % act_out, '|')"
   ]
  },
  {
   "cell_type": "markdown",
   "metadata": {},
   "source": [
    "| Test Case Description | Input | Expected Output | Actual Output |\n",
    "| --- | --- | --- | --- |\n",
    "| Single-element test | [1], k=1 | 1 | 1 |\n",
    "| 5-element unsorted test | [2, 4, 6, 8, 10], k=3 | 6 | 6 |\n",
    "| 5-element duplicate test | [1, 1, 1, 1, 1], k=2 | 1 | 1 |\n",
    "| 10-element sorted test (last element) | [1, 2, 3, 4, 5, 6, 7, 8, 9, 10], k=10 | 10 | 10 |\n",
    "| 10-element test with duplicate | [2, 3, 4, 5, 6, 7, 8, 8, 9, 10], k=7 | 8 | 8 |\n",
    "| 10-element test of 1st element | [2, 3, 4, 5, 6, 7, 8, 8, 9, 10], k=1 | 2 | 2 |"
   ]
  }
 ],
 "metadata": {
  "kernelspec": {
   "display_name": "Python 3 (ipykernel)",
   "language": "python",
   "name": "python3"
  },
  "language_info": {
   "codemirror_mode": {
    "name": "ipython",
    "version": 3
   },
   "file_extension": ".py",
   "mimetype": "text/x-python",
   "name": "python",
   "nbconvert_exporter": "python",
   "pygments_lexer": "ipython3",
   "version": "3.9.18"
  }
 },
 "nbformat": 4,
 "nbformat_minor": 2
}
