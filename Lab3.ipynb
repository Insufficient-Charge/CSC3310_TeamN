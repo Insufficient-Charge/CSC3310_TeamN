{
 "cells": [
  {
   "cell_type": "markdown",
   "metadata": {},
   "source": [
    "## Pseudocode"
   ]
  },
  {
   "cell_type": "markdown",
   "metadata": {},
   "source": [
    "    NUM-ELEMENTS-GREATER(nums, item, i, j):\n",
    "        num_greater = 0\n",
    "        for idx from i to j:\n",
    "            if(nums[idx] > item):\n",
    "                num_greater++\n",
    "        return num_greater\n",
    "    \n",
    "    DIVIDE(nums, i, j):\n",
    "        pivot_pos_orig = randomInt(i, j)\n",
    "        pivot = nums[pivot_pos_orig]\n",
    "        \n",
    "        middle = j - NUM-ELEMENTS-GREATER(nums, pivot, i, j)\n",
    "        swap(nums[middle], nums[pivot_pos_orig])\n",
    "        \n",
    "        l = middle - 1\n",
    "        r = middle + 1\n",
    "        while(l >= i && r <= j):\n",
    "            if(nums[l] <= pivot):\n",
    "                l--\n",
    "            else if(nums[r] > pivot):\n",
    "                r++\n",
    "            else:\n",
    "                swap(nums[l], nums[r])\n",
    "        \n",
    "        return middle"
   ]
  },
  {
   "cell_type": "markdown",
   "metadata": {},
   "source": [
    "## Implementation"
   ]
  },
  {
   "cell_type": "code",
   "execution_count": 1,
   "metadata": {},
   "outputs": [],
   "source": [
    "import random\n",
    "\n",
    "def num_elements_greater(nums, item, i, j):\n",
    "    num_greater = 0\n",
    "    for idx in range(i, j + 1):\n",
    "        if nums[idx] > item:\n",
    "            num_greater += 1\n",
    "    return num_greater\n",
    "\n",
    "def divide(nums, i, j):\n",
    "    pivot_pos_orig = random.randint(i, j)\n",
    "    pivot = nums[pivot_pos_orig]\n",
    "    \n",
    "    middle = j - num_elements_greater(nums, pivot, i, j)\n",
    "    temp = nums[middle]\n",
    "    nums[middle] = nums[pivot_pos_orig]\n",
    "    nums[pivot_pos_orig] = temp\n",
    "    \n",
    "    l = middle - 1\n",
    "    r = middle + 1\n",
    "    while l >= i and r <= j:\n",
    "        if nums[l] <= pivot:\n",
    "            l -= 1\n",
    "        elif nums[r] > pivot:\n",
    "            r += 1\n",
    "        else:\n",
    "            temp = nums[l]\n",
    "            nums[l] = nums[r]\n",
    "            nums[r] = temp\n",
    "    \n",
    "    return middle"
   ]
  },
  {
   "cell_type": "markdown",
   "metadata": {},
   "source": [
    "Here is some code demonstrating partitioning a list and a sublist using the divide function:"
   ]
  },
  {
   "cell_type": "code",
   "execution_count": 2,
   "metadata": {
    "scrolled": true
   },
   "outputs": [
    {
     "name": "stdout",
     "output_type": "stream",
     "text": [
      "Original array: [19, 10, 47, 2, 99, 62, 18, 57, 19, 68]\n",
      "Pivot index is 7\n",
      "Divided array: [19, 10, 47, 2, 19, 57, 18, 62, 99, 68]\n",
      "\n",
      "2nd pivot index is 6\n",
      "Subdivided array: [19, 10, 47, 2, 19, 18, 57, 62, 99, 68]\n"
     ]
    }
   ],
   "source": [
    "num_elements = 10\n",
    "test = [random.randint(1, num_elements ** 2) for _ in range(num_elements)]\n",
    "\n",
    "# Partition an entire list\n",
    "print('Original array:', test)\n",
    "pivot_index = divide(test, 0, len(test) - 1)\n",
    "print('Pivot index is', pivot_index)\n",
    "print('Divided array:', test)\n",
    "\n",
    "print()\n",
    "\n",
    "# Try partitioning the left sublist\n",
    "if pivot_index < 1:\n",
    "    print(\"There is no left sublist to partition\")\n",
    "else:\n",
    "    sub_pivot_index = divide(test, 0, pivot_index - 1)\n",
    "    print('2nd pivot index is', sub_pivot_index)\n",
    "    print('Subdivided array:', test)"
   ]
  }
 ],
 "metadata": {
  "kernelspec": {
   "display_name": "Python 3 (ipykernel)",
   "language": "python",
   "name": "python3"
  },
  "language_info": {
   "codemirror_mode": {
    "name": "ipython",
    "version": 3
   },
   "file_extension": ".py",
   "mimetype": "text/x-python",
   "name": "python",
   "nbconvert_exporter": "python",
   "pygments_lexer": "ipython3",
   "version": "3.9.13"
  }
 },
 "nbformat": 4,
 "nbformat_minor": 2
}
