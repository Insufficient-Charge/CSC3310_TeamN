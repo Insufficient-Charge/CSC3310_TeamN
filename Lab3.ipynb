{
 "cells": [
  {
   "cell_type": "markdown",
   "metadata": {},
   "source": [
    "## Pseudocode"
   ]
  },
  {
   "cell_type": "markdown",
   "metadata": {},
   "source": [
    "    NUM-ELEMENTS-GREATER(nums, item, i, j):\n",
    "        num_greater = 0\n",
    "        for idx from i to j:\n",
    "            if(nums[idx] > item):\n",
    "                num_greater++\n",
    "        return num_greater\n",
    "    \n",
    "    DIVIDE(nums, i, j):\n",
    "        pivot_pos_orig = randomInt(i, j)\n",
    "        pivot = nums[pivot_pos_orig]\n",
    "        \n",
    "        middle = j - NUM-ELEMENTS-GREATER(nums, pivot, i, j)\n",
    "        swap(nums[middle], nums[pivot_pos_orig])\n",
    "        \n",
    "        l = middle - 1\n",
    "        r = middle + 1\n",
    "        while(l >= i && r <= j):\n",
    "            if(nums[l] <= pivot):\n",
    "                l--\n",
    "            else if(nums[r] > pivot):\n",
    "                r++\n",
    "            else:\n",
    "                swap(nums[l], nums[r])\n",
    "        \n",
    "        return middle"
   ]
  },
  {
   "cell_type": "markdown",
   "metadata": {},
   "source": [
    "## Implementation"
   ]
  },
  {
   "cell_type": "code",
   "execution_count": 45,
   "metadata": {},
   "outputs": [],
   "source": [
    "import random\n",
    "\n",
    "def num_elements_greater(nums, item, i, j):\n",
    "    num_greater = 0\n",
    "    for idx in range(i, j + 1):\n",
    "        if nums[idx] > item:\n",
    "            num_greater += 1\n",
    "    return num_greater\n",
    "\n",
    "def divide(nums, i, j):\n",
    "    pivot_pos_orig = random.randint(i, j)\n",
    "    pivot = nums[pivot_pos_orig]\n",
    "    \n",
    "    middle = j - num_elements_greater(nums, pivot, i, j)\n",
    "    nums[middle], nums[pivot_pos_orig] = nums[pivot_pos_orig], nums[middle]\n",
    "    \n",
    "    l = middle - 1\n",
    "    r = middle + 1\n",
    "    while l >= i and r <= j:\n",
    "        if nums[l] <= pivot:\n",
    "            l -= 1\n",
    "        elif nums[r] > pivot:\n",
    "            r += 1\n",
    "        else:\n",
    "            nums[l], nums[r] = nums[r], nums[l]\n",
    "    \n",
    "    return middle\n",
    "\n",
    "def _kSmall(nums, l, r, k):\n",
    "    # Edge cases\n",
    "    if k <= 0 and k > r-l+1:\n",
    "        # Unsure what to respond here. Maximum number?\n",
    "        return 10**10\n",
    "    \n",
    "    # Random partition in the middle\n",
    "    mid = divide(nums, l, r)\n",
    "    \n",
    "    # Exit condition: if the array is the correct partition size\n",
    "    if mid-l == k-1:\n",
    "        return nums[mid]\n",
    "\n",
    "    if mid > k:\n",
    "        return _kSmall(nums, l, mid-1, k)\n",
    "    return _kSmall(nums, mid+1, r, k+l-mid-1)\n",
    "\n",
    "def kSmall(nums, k):\n",
    "    return _kSmall(nums, 0, len(nums)-1, k)"
   ]
  },
  {
   "cell_type": "markdown",
   "metadata": {},
   "source": [
    "Here is some code demonstrating partitioning a list and a sublist using the divide function:"
   ]
  },
  {
   "cell_type": "code",
   "execution_count": 2,
   "metadata": {
    "scrolled": true
   },
   "outputs": [
    {
     "name": "stdout",
     "output_type": "stream",
     "text": [
      "Original array: [74, 86, 10, 82, 88, 74, 39, 16, 91, 18]\n",
      "Pivot index is 2\n",
      "Divided array: [10, 16, 18, 82, 88, 74, 39, 86, 91, 74]\n",
      "\n",
      "2nd pivot index is 1\n",
      "Subdivided array: [10, 16, 18, 82, 88, 74, 39, 86, 91, 74]\n"
     ]
    }
   ],
   "source": [
    "num_elements = 10\n",
    "test = [random.randint(1, num_elements ** 2) for _ in range(num_elements)]\n",
    "\n",
    "# Partition an entire list\n",
    "print('Original array:', test)\n",
    "pivot_index = divide(test, 0, len(test) - 1)\n",
    "print('Pivot index is', pivot_index)\n",
    "print('Divided array:', test)\n",
    "\n",
    "print()\n",
    "\n",
    "# Try partitioning the left sublist\n",
    "if pivot_index < 1:\n",
    "    print(\"There is no left sublist to partition\")\n",
    "else:\n",
    "    sub_pivot_index = divide(test, 0, pivot_index - 1)\n",
    "    print('2nd pivot index is', sub_pivot_index)\n",
    "    print('Subdivided array:', test)"
   ]
  },
  {
   "cell_type": "code",
   "execution_count": 48,
   "metadata": {},
   "outputs": [
    {
     "name": "stdout",
     "output_type": "stream",
     "text": [
      "18\n",
      "18\n",
      "18\n",
      "18\n",
      "18\n",
      "18\n",
      "18\n",
      "18\n"
     ]
    },
    {
     "ename": "ValueError",
     "evalue": "empty range for randrange() (4, 4, 0)",
     "output_type": "error",
     "traceback": [
      "\u001b[1;31m---------------------------------------------------------------------------\u001b[0m",
      "\u001b[1;31mValueError\u001b[0m                                Traceback (most recent call last)",
      "\u001b[1;32mc:\\Users\\bunnj\\OneDrive - Milwaukee School of Engineering\\Documents\\MSOE\\Algo\\Lab\\CSC3310_TeamN\\Lab3.ipynb Cell 7\u001b[0m line \u001b[0;36m2\n\u001b[0;32m      <a href='vscode-notebook-cell:/c%3A/Users/bunnj/OneDrive%20-%20Milwaukee%20School%20of%20Engineering/Documents/MSOE/Algo/Lab/CSC3310_TeamN/Lab3.ipynb#W6sZmlsZQ%3D%3D?line=0'>1</a>\u001b[0m \u001b[39mfor\u001b[39;00m i \u001b[39min\u001b[39;00m \u001b[39mrange\u001b[39m(\u001b[39m0\u001b[39m,\u001b[39m500\u001b[39m):\n\u001b[1;32m----> <a href='vscode-notebook-cell:/c%3A/Users/bunnj/OneDrive%20-%20Milwaukee%20School%20of%20Engineering/Documents/MSOE/Algo/Lab/CSC3310_TeamN/Lab3.ipynb#W6sZmlsZQ%3D%3D?line=1'>2</a>\u001b[0m     \u001b[39mprint\u001b[39m(kSmall(test, \u001b[39m3\u001b[39;49m))\n",
      "\u001b[1;32mc:\\Users\\bunnj\\OneDrive - Milwaukee School of Engineering\\Documents\\MSOE\\Algo\\Lab\\CSC3310_TeamN\\Lab3.ipynb Cell 7\u001b[0m line \u001b[0;36m4\n\u001b[0;32m     <a href='vscode-notebook-cell:/c%3A/Users/bunnj/OneDrive%20-%20Milwaukee%20School%20of%20Engineering/Documents/MSOE/Algo/Lab/CSC3310_TeamN/Lab3.ipynb#W6sZmlsZQ%3D%3D?line=47'>48</a>\u001b[0m \u001b[39mdef\u001b[39;00m \u001b[39mkSmall\u001b[39m(nums, k):\n\u001b[1;32m---> <a href='vscode-notebook-cell:/c%3A/Users/bunnj/OneDrive%20-%20Milwaukee%20School%20of%20Engineering/Documents/MSOE/Algo/Lab/CSC3310_TeamN/Lab3.ipynb#W6sZmlsZQ%3D%3D?line=48'>49</a>\u001b[0m     \u001b[39mreturn\u001b[39;00m _kSmall(nums, \u001b[39m0\u001b[39;49m, \u001b[39mlen\u001b[39;49m(nums)\u001b[39m-\u001b[39;49m\u001b[39m1\u001b[39;49m, k)\n",
      "\u001b[1;32mc:\\Users\\bunnj\\OneDrive - Milwaukee School of Engineering\\Documents\\MSOE\\Algo\\Lab\\CSC3310_TeamN\\Lab3.ipynb Cell 7\u001b[0m line \u001b[0;36m4\n\u001b[0;32m     <a href='vscode-notebook-cell:/c%3A/Users/bunnj/OneDrive%20-%20Milwaukee%20School%20of%20Engineering/Documents/MSOE/Algo/Lab/CSC3310_TeamN/Lab3.ipynb#W6sZmlsZQ%3D%3D?line=43'>44</a>\u001b[0m \u001b[39mif\u001b[39;00m mid \u001b[39m>\u001b[39m k:\n\u001b[0;32m     <a href='vscode-notebook-cell:/c%3A/Users/bunnj/OneDrive%20-%20Milwaukee%20School%20of%20Engineering/Documents/MSOE/Algo/Lab/CSC3310_TeamN/Lab3.ipynb#W6sZmlsZQ%3D%3D?line=44'>45</a>\u001b[0m     \u001b[39mreturn\u001b[39;00m _kSmall(nums, l, mid\u001b[39m-\u001b[39m\u001b[39m1\u001b[39m, k)\n\u001b[1;32m---> <a href='vscode-notebook-cell:/c%3A/Users/bunnj/OneDrive%20-%20Milwaukee%20School%20of%20Engineering/Documents/MSOE/Algo/Lab/CSC3310_TeamN/Lab3.ipynb#W6sZmlsZQ%3D%3D?line=45'>46</a>\u001b[0m \u001b[39mreturn\u001b[39;00m _kSmall(nums, mid\u001b[39m+\u001b[39;49m\u001b[39m1\u001b[39;49m, r, k\u001b[39m+\u001b[39;49ml\u001b[39m-\u001b[39;49mmid\u001b[39m-\u001b[39;49m\u001b[39m1\u001b[39;49m)\n",
      "\u001b[1;32mc:\\Users\\bunnj\\OneDrive - Milwaukee School of Engineering\\Documents\\MSOE\\Algo\\Lab\\CSC3310_TeamN\\Lab3.ipynb Cell 7\u001b[0m line \u001b[0;36m4\n\u001b[0;32m     <a href='vscode-notebook-cell:/c%3A/Users/bunnj/OneDrive%20-%20Milwaukee%20School%20of%20Engineering/Documents/MSOE/Algo/Lab/CSC3310_TeamN/Lab3.ipynb#W6sZmlsZQ%3D%3D?line=41'>42</a>\u001b[0m     \u001b[39mreturn\u001b[39;00m nums[mid]\n\u001b[0;32m     <a href='vscode-notebook-cell:/c%3A/Users/bunnj/OneDrive%20-%20Milwaukee%20School%20of%20Engineering/Documents/MSOE/Algo/Lab/CSC3310_TeamN/Lab3.ipynb#W6sZmlsZQ%3D%3D?line=43'>44</a>\u001b[0m \u001b[39mif\u001b[39;00m mid \u001b[39m>\u001b[39m k:\n\u001b[1;32m---> <a href='vscode-notebook-cell:/c%3A/Users/bunnj/OneDrive%20-%20Milwaukee%20School%20of%20Engineering/Documents/MSOE/Algo/Lab/CSC3310_TeamN/Lab3.ipynb#W6sZmlsZQ%3D%3D?line=44'>45</a>\u001b[0m     \u001b[39mreturn\u001b[39;00m _kSmall(nums, l, mid\u001b[39m-\u001b[39;49m\u001b[39m1\u001b[39;49m, k)\n\u001b[0;32m     <a href='vscode-notebook-cell:/c%3A/Users/bunnj/OneDrive%20-%20Milwaukee%20School%20of%20Engineering/Documents/MSOE/Algo/Lab/CSC3310_TeamN/Lab3.ipynb#W6sZmlsZQ%3D%3D?line=45'>46</a>\u001b[0m \u001b[39mreturn\u001b[39;00m _kSmall(nums, mid\u001b[39m+\u001b[39m\u001b[39m1\u001b[39m, r, k\u001b[39m+\u001b[39ml\u001b[39m-\u001b[39mmid\u001b[39m-\u001b[39m\u001b[39m1\u001b[39m)\n",
      "\u001b[1;32mc:\\Users\\bunnj\\OneDrive - Milwaukee School of Engineering\\Documents\\MSOE\\Algo\\Lab\\CSC3310_TeamN\\Lab3.ipynb Cell 7\u001b[0m line \u001b[0;36m4\n\u001b[0;32m     <a href='vscode-notebook-cell:/c%3A/Users/bunnj/OneDrive%20-%20Milwaukee%20School%20of%20Engineering/Documents/MSOE/Algo/Lab/CSC3310_TeamN/Lab3.ipynb#W6sZmlsZQ%3D%3D?line=41'>42</a>\u001b[0m     \u001b[39mreturn\u001b[39;00m nums[mid]\n\u001b[0;32m     <a href='vscode-notebook-cell:/c%3A/Users/bunnj/OneDrive%20-%20Milwaukee%20School%20of%20Engineering/Documents/MSOE/Algo/Lab/CSC3310_TeamN/Lab3.ipynb#W6sZmlsZQ%3D%3D?line=43'>44</a>\u001b[0m \u001b[39mif\u001b[39;00m mid \u001b[39m>\u001b[39m k:\n\u001b[1;32m---> <a href='vscode-notebook-cell:/c%3A/Users/bunnj/OneDrive%20-%20Milwaukee%20School%20of%20Engineering/Documents/MSOE/Algo/Lab/CSC3310_TeamN/Lab3.ipynb#W6sZmlsZQ%3D%3D?line=44'>45</a>\u001b[0m     \u001b[39mreturn\u001b[39;00m _kSmall(nums, l, mid\u001b[39m-\u001b[39;49m\u001b[39m1\u001b[39;49m, k)\n\u001b[0;32m     <a href='vscode-notebook-cell:/c%3A/Users/bunnj/OneDrive%20-%20Milwaukee%20School%20of%20Engineering/Documents/MSOE/Algo/Lab/CSC3310_TeamN/Lab3.ipynb#W6sZmlsZQ%3D%3D?line=45'>46</a>\u001b[0m \u001b[39mreturn\u001b[39;00m _kSmall(nums, mid\u001b[39m+\u001b[39m\u001b[39m1\u001b[39m, r, k\u001b[39m+\u001b[39ml\u001b[39m-\u001b[39mmid\u001b[39m-\u001b[39m\u001b[39m1\u001b[39m)\n",
      "\u001b[1;32mc:\\Users\\bunnj\\OneDrive - Milwaukee School of Engineering\\Documents\\MSOE\\Algo\\Lab\\CSC3310_TeamN\\Lab3.ipynb Cell 7\u001b[0m line \u001b[0;36m4\n\u001b[0;32m     <a href='vscode-notebook-cell:/c%3A/Users/bunnj/OneDrive%20-%20Milwaukee%20School%20of%20Engineering/Documents/MSOE/Algo/Lab/CSC3310_TeamN/Lab3.ipynb#W6sZmlsZQ%3D%3D?line=41'>42</a>\u001b[0m     \u001b[39mreturn\u001b[39;00m nums[mid]\n\u001b[0;32m     <a href='vscode-notebook-cell:/c%3A/Users/bunnj/OneDrive%20-%20Milwaukee%20School%20of%20Engineering/Documents/MSOE/Algo/Lab/CSC3310_TeamN/Lab3.ipynb#W6sZmlsZQ%3D%3D?line=43'>44</a>\u001b[0m \u001b[39mif\u001b[39;00m mid \u001b[39m>\u001b[39m k:\n\u001b[1;32m---> <a href='vscode-notebook-cell:/c%3A/Users/bunnj/OneDrive%20-%20Milwaukee%20School%20of%20Engineering/Documents/MSOE/Algo/Lab/CSC3310_TeamN/Lab3.ipynb#W6sZmlsZQ%3D%3D?line=44'>45</a>\u001b[0m     \u001b[39mreturn\u001b[39;00m _kSmall(nums, l, mid\u001b[39m-\u001b[39;49m\u001b[39m1\u001b[39;49m, k)\n\u001b[0;32m     <a href='vscode-notebook-cell:/c%3A/Users/bunnj/OneDrive%20-%20Milwaukee%20School%20of%20Engineering/Documents/MSOE/Algo/Lab/CSC3310_TeamN/Lab3.ipynb#W6sZmlsZQ%3D%3D?line=45'>46</a>\u001b[0m \u001b[39mreturn\u001b[39;00m _kSmall(nums, mid\u001b[39m+\u001b[39m\u001b[39m1\u001b[39m, r, k\u001b[39m+\u001b[39ml\u001b[39m-\u001b[39mmid\u001b[39m-\u001b[39m\u001b[39m1\u001b[39m)\n",
      "\u001b[1;32mc:\\Users\\bunnj\\OneDrive - Milwaukee School of Engineering\\Documents\\MSOE\\Algo\\Lab\\CSC3310_TeamN\\Lab3.ipynb Cell 7\u001b[0m line \u001b[0;36m3\n\u001b[0;32m     <a href='vscode-notebook-cell:/c%3A/Users/bunnj/OneDrive%20-%20Milwaukee%20School%20of%20Engineering/Documents/MSOE/Algo/Lab/CSC3310_TeamN/Lab3.ipynb#W6sZmlsZQ%3D%3D?line=34'>35</a>\u001b[0m     \u001b[39mreturn\u001b[39;00m \u001b[39m10\u001b[39m\u001b[39m*\u001b[39m\u001b[39m*\u001b[39m\u001b[39m10\u001b[39m\n\u001b[0;32m     <a href='vscode-notebook-cell:/c%3A/Users/bunnj/OneDrive%20-%20Milwaukee%20School%20of%20Engineering/Documents/MSOE/Algo/Lab/CSC3310_TeamN/Lab3.ipynb#W6sZmlsZQ%3D%3D?line=36'>37</a>\u001b[0m \u001b[39m# Random partition in the middle\u001b[39;00m\n\u001b[1;32m---> <a href='vscode-notebook-cell:/c%3A/Users/bunnj/OneDrive%20-%20Milwaukee%20School%20of%20Engineering/Documents/MSOE/Algo/Lab/CSC3310_TeamN/Lab3.ipynb#W6sZmlsZQ%3D%3D?line=37'>38</a>\u001b[0m mid \u001b[39m=\u001b[39m divide(nums, l, r)\n\u001b[0;32m     <a href='vscode-notebook-cell:/c%3A/Users/bunnj/OneDrive%20-%20Milwaukee%20School%20of%20Engineering/Documents/MSOE/Algo/Lab/CSC3310_TeamN/Lab3.ipynb#W6sZmlsZQ%3D%3D?line=39'>40</a>\u001b[0m \u001b[39m# Exit condition: if the array is the correct partition size\u001b[39;00m\n\u001b[0;32m     <a href='vscode-notebook-cell:/c%3A/Users/bunnj/OneDrive%20-%20Milwaukee%20School%20of%20Engineering/Documents/MSOE/Algo/Lab/CSC3310_TeamN/Lab3.ipynb#W6sZmlsZQ%3D%3D?line=40'>41</a>\u001b[0m \u001b[39mif\u001b[39;00m mid\u001b[39m-\u001b[39ml \u001b[39m==\u001b[39m k\u001b[39m-\u001b[39m\u001b[39m1\u001b[39m:\n",
      "\u001b[1;32mc:\\Users\\bunnj\\OneDrive - Milwaukee School of Engineering\\Documents\\MSOE\\Algo\\Lab\\CSC3310_TeamN\\Lab3.ipynb Cell 7\u001b[0m line \u001b[0;36m1\n\u001b[0;32m     <a href='vscode-notebook-cell:/c%3A/Users/bunnj/OneDrive%20-%20Milwaukee%20School%20of%20Engineering/Documents/MSOE/Algo/Lab/CSC3310_TeamN/Lab3.ipynb#W6sZmlsZQ%3D%3D?line=9'>10</a>\u001b[0m \u001b[39mdef\u001b[39;00m \u001b[39mdivide\u001b[39m(nums, i, j):\n\u001b[1;32m---> <a href='vscode-notebook-cell:/c%3A/Users/bunnj/OneDrive%20-%20Milwaukee%20School%20of%20Engineering/Documents/MSOE/Algo/Lab/CSC3310_TeamN/Lab3.ipynb#W6sZmlsZQ%3D%3D?line=10'>11</a>\u001b[0m     pivot_pos_orig \u001b[39m=\u001b[39m random\u001b[39m.\u001b[39;49mrandint(i, j)\n\u001b[0;32m     <a href='vscode-notebook-cell:/c%3A/Users/bunnj/OneDrive%20-%20Milwaukee%20School%20of%20Engineering/Documents/MSOE/Algo/Lab/CSC3310_TeamN/Lab3.ipynb#W6sZmlsZQ%3D%3D?line=11'>12</a>\u001b[0m     pivot \u001b[39m=\u001b[39m nums[pivot_pos_orig]\n\u001b[0;32m     <a href='vscode-notebook-cell:/c%3A/Users/bunnj/OneDrive%20-%20Milwaukee%20School%20of%20Engineering/Documents/MSOE/Algo/Lab/CSC3310_TeamN/Lab3.ipynb#W6sZmlsZQ%3D%3D?line=13'>14</a>\u001b[0m     middle \u001b[39m=\u001b[39m j \u001b[39m-\u001b[39m num_elements_greater(nums, pivot, i, j)\n",
      "File \u001b[1;32mc:\\Program Files\\Python39\\lib\\random.py:338\u001b[0m, in \u001b[0;36mRandom.randint\u001b[1;34m(self, a, b)\u001b[0m\n\u001b[0;32m    334\u001b[0m \u001b[39mdef\u001b[39;00m \u001b[39mrandint\u001b[39m(\u001b[39mself\u001b[39m, a, b):\n\u001b[0;32m    335\u001b[0m \u001b[39m    \u001b[39m\u001b[39m\"\"\"Return random integer in range [a, b], including both end points.\u001b[39;00m\n\u001b[0;32m    336\u001b[0m \u001b[39m    \"\"\"\u001b[39;00m\n\u001b[1;32m--> 338\u001b[0m     \u001b[39mreturn\u001b[39;00m \u001b[39mself\u001b[39;49m\u001b[39m.\u001b[39;49mrandrange(a, b\u001b[39m+\u001b[39;49m\u001b[39m1\u001b[39;49m)\n",
      "File \u001b[1;32mc:\\Program Files\\Python39\\lib\\random.py:316\u001b[0m, in \u001b[0;36mRandom.randrange\u001b[1;34m(self, start, stop, step)\u001b[0m\n\u001b[0;32m    314\u001b[0m     \u001b[39mreturn\u001b[39;00m istart \u001b[39m+\u001b[39m \u001b[39mself\u001b[39m\u001b[39m.\u001b[39m_randbelow(width)\n\u001b[0;32m    315\u001b[0m \u001b[39mif\u001b[39;00m step \u001b[39m==\u001b[39m \u001b[39m1\u001b[39m:\n\u001b[1;32m--> 316\u001b[0m     \u001b[39mraise\u001b[39;00m \u001b[39mValueError\u001b[39;00m(\u001b[39m\"\u001b[39m\u001b[39mempty range for randrange() (\u001b[39m\u001b[39m%d\u001b[39;00m\u001b[39m, \u001b[39m\u001b[39m%d\u001b[39;00m\u001b[39m, \u001b[39m\u001b[39m%d\u001b[39;00m\u001b[39m)\u001b[39m\u001b[39m\"\u001b[39m \u001b[39m%\u001b[39m (istart, istop, width))\n\u001b[0;32m    318\u001b[0m \u001b[39m# Non-unit step argument supplied.\u001b[39;00m\n\u001b[0;32m    319\u001b[0m istep \u001b[39m=\u001b[39m \u001b[39mint\u001b[39m(step)\n",
      "\u001b[1;31mValueError\u001b[0m: empty range for randrange() (4, 4, 0)"
     ]
    }
   ],
   "source": [
    "for i in range(0,500):\n",
    "    print(kSmall(test, 3))"
   ]
  }
 ],
 "metadata": {
  "kernelspec": {
   "display_name": "Python 3 (ipykernel)",
   "language": "python",
   "name": "python3"
  },
  "language_info": {
   "codemirror_mode": {
    "name": "ipython",
    "version": 3
   },
   "file_extension": ".py",
   "mimetype": "text/x-python",
   "name": "python",
   "nbconvert_exporter": "python",
   "pygments_lexer": "ipython3",
   "version": "3.9.13"
  }
 },
 "nbformat": 4,
 "nbformat_minor": 2
}
